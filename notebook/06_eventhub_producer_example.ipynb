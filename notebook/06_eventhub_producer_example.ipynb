{
 "cells": [
  {
   "cell_type": "markdown",
   "metadata": {},
   "source": [
    "# Producer"
   ]
  },
  {
   "cell_type": "code",
   "execution_count": 1,
   "metadata": {},
   "outputs": [],
   "source": [
    "# Main doc: https://docs.microsoft.com/en-us/python/api/azure-eventhub/?view=azure-python\n",
    "# EventHubProducerClient doc: https://docs.microsoft.com/en-us/python/api/azure-eventhub/azure.eventhub.eventhubproducerclient?view=azure-python\n",
    "# Github: https://github.com/Azure/azure-sdk-for-python/tree/main/sdk/eventhub/azure-eventhub\n",
    "# Alt: Eventhub kafka protocol: https://docs.microsoft.com/en-us/azure/event-hubs/event-hubs-quickstart-kafka-enabled-event-hubs\n",
    "\n",
    "import asyncio\n",
    "from azure.eventhub.aio import EventHubProducerClient\n",
    "from azure.eventhub import EventData\n",
    "import json\n",
    "\n",
    "CONNECTION_STRING: str = 'Endpoint=sb://eventhub-5003-project.servicebus.windows.net/;SharedAccessKeyName=producer_policy;SharedAccessKey=yJK4o5f+tXsd6cJ5O/NGcH4vRTH64EFsaJAEpDihcCs='\n",
    "\n",
    "EVENTHUB_NAME: str = 'us-election-tweet'\n",
    "\n",
    "# use event loop if not running in jupyter\n",
    "# async def run():\n",
    "#     # Create a producer client to send messages to the event hub.\n",
    "#     # Specify a connection string to your event hubs namespace and\n",
    "#     # the event hub name.\n",
    "#     producer = EventHubProducerClient.from_connection_string(conn_str=CONNECTION_STRING, eventhub_name=EVENTHUB_NAME)\n",
    "#     async with producer:\n",
    "#         # do stuff here\n",
    "\n",
    "# loop = asyncio.get_event_loop()\n",
    "# loop.run_until_complete(run())"
   ]
  },
  {
   "cell_type": "code",
   "execution_count": 26,
   "metadata": {},
   "outputs": [],
   "source": [
    "producer = EventHubProducerClient.from_connection_string(conn_str=CONNECTION_STRING, eventhub_name=EVENTHUB_NAME)\n",
    "async with producer:\n",
    "    # Create a batch.\n",
    "    event_data_batch = await producer.create_batch()\n",
    "\n",
    "    # Add events to the batch.\n",
    "    json_data = json.dumps({\"message\": \"Hello World 1\"})\n",
    "    event_data_batch.add(EventData(json_data))\n",
    "\n",
    "    # Send the batch of events to the event hub.\n",
    "    await producer.send_batch(event_data_batch)"
   ]
  },
  {
   "cell_type": "code",
   "execution_count": null,
   "metadata": {},
   "outputs": [],
   "source": []
  }
 ],
 "metadata": {
  "interpreter": {
   "hash": "cc2126839900266a2f19e38ce1529a211e38e2f693c50d7e80c84f273ed229e0"
  },
  "kernelspec": {
   "display_name": "Python 3 (ipykernel)",
   "language": "python",
   "name": "python3"
  },
  "language_info": {
   "codemirror_mode": {
    "name": "ipython",
    "version": 3
   },
   "file_extension": ".py",
   "mimetype": "text/x-python",
   "name": "python",
   "nbconvert_exporter": "python",
   "pygments_lexer": "ipython3",
   "version": "3.9.7"
  }
 },
 "nbformat": 4,
 "nbformat_minor": 4
}
