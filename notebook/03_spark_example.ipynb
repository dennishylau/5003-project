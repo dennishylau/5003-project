{
 "cells": [
  {
   "cell_type": "code",
   "execution_count": 31,
   "id": "8f6eb493",
   "metadata": {},
   "outputs": [],
   "source": [
    "from pyspark.sql import SparkSession\n",
    "from pyspark.sql.types import StructType, TimestampType, StringType, DoubleType\n",
    "\n",
    "spark = (\n",
    "    SparkSession.builder\n",
    "    .appName('5003-project')\n",
    "    .master('spark://spark-master:7077')\n",
    "    .config(\"spark.files.overwrite\", \"true\")\n",
    "    .enableHiveSupport()\n",
    "    .getOrCreate()\n",
    ")"
   ]
  },
  {
   "cell_type": "code",
   "execution_count": 32,
   "id": "4a8a23aa",
   "metadata": {},
   "outputs": [],
   "source": [
    "schema = (\n",
    "    StructType()\n",
    "    .add(\"created_at\", TimestampType(), False)\n",
    "    .add(\"tweet_id\", DoubleType(), False)\n",
    "    .add(\"tweet\", StringType(), True)\n",
    "    .add(\"likes\", DoubleType(), True)\n",
    "    .add(\"retweet_count\", DoubleType(), True)\n",
    "    .add(\"source\", StringType(), True)\n",
    "    .add(\"user_id\", DoubleType(), True)\n",
    "    .add(\"user_name\", StringType(), True)\n",
    "    .add(\"user_screen_name\", StringType(), True)\n",
    "    .add(\"user_description\", StringType(), True)\n",
    "    .add(\"user_join_date\", TimestampType(), True)\n",
    "    .add(\"user_followers_count\", DoubleType(), True)\n",
    "    .add(\"user_location\", StringType(), True)\n",
    "    .add(\"lat\", DoubleType(), True)\n",
    "    .add(\"long\", DoubleType(), True)\n",
    "    .add(\"city\", StringType(), True)\n",
    "    .add(\"country\", StringType(), True)\n",
    "    .add(\"continent\", StringType(), True)\n",
    "    .add(\"state\", StringType(), True)\n",
    "    .add(\"state_code\", StringType(), True)\n",
    "    .add(\"collected_at\", TimestampType(), True)\n",
    ")"
   ]
  },
  {
   "cell_type": "code",
   "execution_count": 47,
   "id": "d98d26d9-ec0e-4422-89bf-95cd17d0f4d7",
   "metadata": {},
   "outputs": [],
   "source": [
    "df_dt = (spark.read.format(\"csv\")\n",
    "    .option(\"header\", True)\n",
    "    .option(\"multiline\",True)\n",
    "    .option(\"inferSchema\",\"false\")\n",
    "    .option(\"timestampFormat\",\"yyyy-MM-dd HH:mm:ss.SSS\")\n",
    "    .schema(schema)\n",
    "    .load(\"data/hashtag_donaldtrump.csv\")\n",
    ")"
   ]
  }
 ],
 "metadata": {
  "interpreter": {
   "hash": "11223a8889bed13ee4c511387b17f26535da349a2b521fe727c5339d48cac644"
  },
  "kernelspec": {
   "display_name": "Python 3 (ipykernel)",
   "language": "python",
   "name": "python3"
  },
  "language_info": {
   "codemirror_mode": {
    "name": "ipython",
    "version": 3
   },
   "file_extension": ".py",
   "mimetype": "text/x-python",
   "name": "python",
   "nbconvert_exporter": "python",
   "pygments_lexer": "ipython3",
   "version": "3.9.7"
  }
 },
 "nbformat": 4,
 "nbformat_minor": 5
}
