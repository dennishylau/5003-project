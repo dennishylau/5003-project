{
 "cells": [
  {
   "cell_type": "markdown",
   "metadata": {},
   "source": [
    "# kafka_consumer_example"
   ]
  },
  {
   "cell_type": "markdown",
   "metadata": {},
   "source": [
    "Check if kafka has been set up correctly.  \n",
    "Start consumer before running producer.  \n",
    "\n",
    "Note: If configured incorrectly, `Topic us-election is not available during auto-create initialization` will appear. Check `kafka-topic.sh` configuration in that case."
   ]
  },
  {
   "cell_type": "code",
   "execution_count": 1,
   "metadata": {},
   "outputs": [
    {
     "name": "stderr",
     "output_type": "stream",
     "text": [
      "Unable connect to \"localhost:29092\": Multiple exceptions: [Errno 111] Connect call failed ('127.0.0.1', 29092), [Errno 99] Cannot assign requested address\n"
     ]
    },
    {
     "ename": "KafkaConnectionError",
     "evalue": "KafkaConnectionError: Unable to bootstrap from [('localhost', 29092, <AddressFamily.AF_UNSPEC: 0>)]",
     "output_type": "error",
     "traceback": [
      "\u001b[0;31m---------------------------------------------------------------------------\u001b[0m",
      "\u001b[0;31mKafkaConnectionError\u001b[0m                      Traceback (most recent call last)",
      "\u001b[0;32m/tmp/ipykernel_63/2930902632.py\u001b[0m in \u001b[0;36m<module>\u001b[0;34m\u001b[0m\n\u001b[1;32m     26\u001b[0m         \u001b[0;32mawait\u001b[0m \u001b[0mconsumer\u001b[0m\u001b[0;34m.\u001b[0m\u001b[0mstop\u001b[0m\u001b[0;34m(\u001b[0m\u001b[0;34m)\u001b[0m\u001b[0;34m\u001b[0m\u001b[0;34m\u001b[0m\u001b[0m\n\u001b[1;32m     27\u001b[0m \u001b[0;34m\u001b[0m\u001b[0m\n\u001b[0;32m---> 28\u001b[0;31m \u001b[0;32mawait\u001b[0m \u001b[0mconsume\u001b[0m\u001b[0;34m(\u001b[0m\u001b[0;34m[\u001b[0m\u001b[0mtopic_name\u001b[0m\u001b[0;34m]\u001b[0m\u001b[0;34m,\u001b[0m \u001b[0mbootstrap_servers\u001b[0m\u001b[0;34m)\u001b[0m\u001b[0;34m\u001b[0m\u001b[0;34m\u001b[0m\u001b[0m\n\u001b[0m",
      "\u001b[0;32m/tmp/ipykernel_63/2930902632.py\u001b[0m in \u001b[0;36mconsume\u001b[0;34m(topics, bootstrap_servers)\u001b[0m\n\u001b[1;32m     10\u001b[0m     \u001b[0mconsumer\u001b[0m \u001b[0;34m=\u001b[0m \u001b[0mAIOKafkaConsumer\u001b[0m\u001b[0;34m(\u001b[0m\u001b[0;34m*\u001b[0m\u001b[0mtopics\u001b[0m\u001b[0;34m,\u001b[0m \u001b[0mbootstrap_servers\u001b[0m\u001b[0;34m=\u001b[0m\u001b[0mbootstrap_servers\u001b[0m\u001b[0;34m)\u001b[0m\u001b[0;34m\u001b[0m\u001b[0;34m\u001b[0m\u001b[0m\n\u001b[1;32m     11\u001b[0m     \u001b[0;31m# Get cluster layout and join group `my-group`\u001b[0m\u001b[0;34m\u001b[0m\u001b[0;34m\u001b[0m\u001b[0m\n\u001b[0;32m---> 12\u001b[0;31m     \u001b[0;32mawait\u001b[0m \u001b[0mconsumer\u001b[0m\u001b[0;34m.\u001b[0m\u001b[0mstart\u001b[0m\u001b[0;34m(\u001b[0m\u001b[0;34m)\u001b[0m\u001b[0;34m\u001b[0m\u001b[0;34m\u001b[0m\u001b[0m\n\u001b[0m\u001b[1;32m     13\u001b[0m     \u001b[0;32mtry\u001b[0m\u001b[0;34m:\u001b[0m\u001b[0;34m\u001b[0m\u001b[0;34m\u001b[0m\u001b[0m\n\u001b[1;32m     14\u001b[0m         \u001b[0;31m# Consume messages\u001b[0m\u001b[0;34m\u001b[0m\u001b[0;34m\u001b[0m\u001b[0m\n",
      "\u001b[0;32m/opt/conda/envs/5003-project/lib/python3.9/site-packages/aiokafka/consumer/consumer.py\u001b[0m in \u001b[0;36mstart\u001b[0;34m(self)\u001b[0m\n\u001b[1;32m    344\u001b[0m         )\n\u001b[1;32m    345\u001b[0m         \u001b[0;32massert\u001b[0m \u001b[0mself\u001b[0m\u001b[0;34m.\u001b[0m\u001b[0m_fetcher\u001b[0m \u001b[0;32mis\u001b[0m \u001b[0;32mNone\u001b[0m\u001b[0;34m,\u001b[0m \u001b[0;34m\"Did you call `start` twice?\"\u001b[0m\u001b[0;34m\u001b[0m\u001b[0;34m\u001b[0m\u001b[0m\n\u001b[0;32m--> 346\u001b[0;31m         \u001b[0;32mawait\u001b[0m \u001b[0mself\u001b[0m\u001b[0;34m.\u001b[0m\u001b[0m_client\u001b[0m\u001b[0;34m.\u001b[0m\u001b[0mbootstrap\u001b[0m\u001b[0;34m(\u001b[0m\u001b[0;34m)\u001b[0m\u001b[0;34m\u001b[0m\u001b[0;34m\u001b[0m\u001b[0m\n\u001b[0m\u001b[1;32m    347\u001b[0m         \u001b[0;32mawait\u001b[0m \u001b[0mself\u001b[0m\u001b[0;34m.\u001b[0m\u001b[0m_wait_topics\u001b[0m\u001b[0;34m(\u001b[0m\u001b[0;34m)\u001b[0m\u001b[0;34m\u001b[0m\u001b[0;34m\u001b[0m\u001b[0m\n\u001b[1;32m    348\u001b[0m \u001b[0;34m\u001b[0m\u001b[0m\n",
      "\u001b[0;32m/opt/conda/envs/5003-project/lib/python3.9/site-packages/aiokafka/client.py\u001b[0m in \u001b[0;36mbootstrap\u001b[0;34m(self)\u001b[0m\n\u001b[1;32m    247\u001b[0m             \u001b[0;32mbreak\u001b[0m\u001b[0;34m\u001b[0m\u001b[0;34m\u001b[0m\u001b[0m\n\u001b[1;32m    248\u001b[0m         \u001b[0;32melse\u001b[0m\u001b[0;34m:\u001b[0m\u001b[0;34m\u001b[0m\u001b[0;34m\u001b[0m\u001b[0m\n\u001b[0;32m--> 249\u001b[0;31m             raise KafkaConnectionError(\n\u001b[0m\u001b[1;32m    250\u001b[0m                 f'Unable to bootstrap from {self.hosts}')\n\u001b[1;32m    251\u001b[0m \u001b[0;34m\u001b[0m\u001b[0m\n",
      "\u001b[0;31mKafkaConnectionError\u001b[0m: KafkaConnectionError: Unable to bootstrap from [('localhost', 29092, <AddressFamily.AF_UNSPEC: 0>)]"
     ]
    }
   ],
   "source": [
    "from aiokafka import AIOKafkaConsumer\n",
    "import asyncio\n",
    "import json\n",
    "from pprint import pprint\n",
    "\n",
    "topic_name = 'us-election'\n",
    "bootstrap_servers = 'localhost:29092'\n",
    "\n",
    "async def consume(topics: list[str], bootstrap_servers: str):\n",
    "    consumer = AIOKafkaConsumer(*topics, bootstrap_servers=bootstrap_servers)\n",
    "    # Get cluster layout and join group `my-group`\n",
    "    await consumer.start()\n",
    "    try:\n",
    "        # Consume messages\n",
    "        async for msg in consumer:\n",
    "            print('------- New Message -------')\n",
    "            pprint({\n",
    "                'topic': msg.topic, \n",
    "                'partition': msg.partition, \n",
    "                'offset': msg.offset,  \n",
    "                'msg.key': msg.key, \n",
    "                'msg.value': json.loads(msg.value.decode('utf-8')), \n",
    "                'msg.timestamp': msg.timestamp})\n",
    "    finally:\n",
    "        # Will leave consumer group; perform autocommit if enabled.\n",
    "        await consumer.stop()\n",
    "\n",
    "await consume([topic_name], bootstrap_servers)"
   ]
  },
  {
   "cell_type": "code",
   "execution_count": null,
   "metadata": {},
   "outputs": [],
   "source": []
  }
 ],
 "metadata": {
  "interpreter": {
   "hash": "ffedf9cbfccac9aa5fdd15aa0ae503b00863a872b99f1d97bd4515a1e5eb4b11"
  },
  "kernelspec": {
   "display_name": "Python 3 (ipykernel)",
   "language": "python",
   "name": "python3"
  },
  "language_info": {
   "codemirror_mode": {
    "name": "ipython",
    "version": 3
   },
   "file_extension": ".py",
   "mimetype": "text/x-python",
   "name": "python",
   "nbconvert_exporter": "python",
   "pygments_lexer": "ipython3",
   "version": "3.9.7"
  }
 },
 "nbformat": 4,
 "nbformat_minor": 4
}
