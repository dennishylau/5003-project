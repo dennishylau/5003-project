{
 "cells": [
  {
   "cell_type": "markdown",
   "metadata": {},
   "source": [
    "# kafka_consumer_example"
   ]
  },
  {
   "cell_type": "markdown",
   "metadata": {},
   "source": [
    "Check if kafka has been set up correctly.  \n",
    "Start consummer before running producer.  \n",
    "\n",
    "Note: If configured incorrectly, `Topic us-election is not available during auto-create initialization` will appear. Check `kafka-topic.sh` configuration in that case."
   ]
  },
  {
   "cell_type": "code",
   "execution_count": 11,
   "metadata": {},
   "outputs": [
    {
     "name": "stdout",
     "output_type": "stream",
     "text": [
      "------- New Message -------\n",
      "{'msg.key': None,\n",
      " 'msg.timestamp': 1634818495742,\n",
      " 'msg.value': {'city': '',\n",
      "               'collected_at': '2020-10-21 00:00:00',\n",
      "               'continent': 'North America',\n",
      "               'country': 'United States of America',\n",
      "               'created_at': '2020-10-15 00:00:01',\n",
      "               'lat': '25.77427',\n",
      "               'likes': '0.0',\n",
      "               'long': '-80.19366',\n",
      "               'retweet_count': '0.0',\n",
      "               'source': 'TweetDeck',\n",
      "               'state': 'Florida',\n",
      "               'state_code': 'FL',\n",
      "               'tweet': '#Elecciones2020 | En #Florida: #JoeBiden dice que '\n",
      "                        '#DonaldTrump solo se preocupa por él mismo. El '\n",
      "                        'demócrata fue anfitrión de encuentros de electores en '\n",
      "                        '#PembrokePines y #Miramar. Clic AQUÍ ⬇️⬇️⬇️\\n'\n",
      "                        '⠀\\n'\n",
      "                        '🌐https://t.co/qhIWpIUXsT\\n'\n",
      "                        '_\\n'\n",
      "                        '#ElSolLatino #yobrilloconelsol '\n",
      "                        'https://t.co/6FlCBWf1Mi',\n",
      "               'tweet_id': '1.316529221557252e+18',\n",
      "               'user_description': '🌐 Noticias de interés para latinos de la '\n",
      "                                   'costa este de #EEUU\\n'\n",
      "                                   '⠀⏹️ Facebook e Instagram\\n'\n",
      "                                   '⠀🏙️ Philadelphia: /elsollatinonewspaper\\n'\n",
      "                                   '⠀🌅 Miami: /elsollatinonewsmiami',\n",
      "               'user_followers_count': '1860.0',\n",
      "               'user_id': '360666534.0',\n",
      "               'user_join_date': '2011-08-23 15:33:45',\n",
      "               'user_location': 'Philadelphia, PA / Miami, FL',\n",
      "               'user_name': 'El Sol Latino News',\n",
      "               'user_screen_name': 'elsollatinonews'},\n",
      " 'offset': 0,\n",
      " 'partition': 0,\n",
      " 'topic': 'us-election'}\n"
     ]
    },
    {
     "ename": "CancelledError",
     "evalue": "",
     "output_type": "error",
     "traceback": [
      "\u001b[0;31m---------------------------------------------------------------------------\u001b[0m",
      "\u001b[0;31mCancelledError\u001b[0m                            Traceback (most recent call last)",
      "\u001b[0;32m/var/folders/qv/f2374vtx7z70r5qbtk6w88gm0000gp/T/ipykernel_9588/2993524342.py\u001b[0m in \u001b[0;36m<module>\u001b[0;34m\u001b[0m\n\u001b[1;32m     28\u001b[0m         \u001b[0;32mawait\u001b[0m \u001b[0mconsumer\u001b[0m\u001b[0;34m.\u001b[0m\u001b[0mstop\u001b[0m\u001b[0;34m(\u001b[0m\u001b[0;34m)\u001b[0m\u001b[0;34m\u001b[0m\u001b[0;34m\u001b[0m\u001b[0m\n\u001b[1;32m     29\u001b[0m \u001b[0;34m\u001b[0m\u001b[0m\n\u001b[0;32m---> 30\u001b[0;31m \u001b[0;32mawait\u001b[0m \u001b[0mconsume\u001b[0m\u001b[0;34m(\u001b[0m\u001b[0;34m[\u001b[0m\u001b[0mtopic_name\u001b[0m\u001b[0;34m]\u001b[0m\u001b[0;34m,\u001b[0m \u001b[0mbootstrap_servers\u001b[0m\u001b[0;34m)\u001b[0m\u001b[0;34m\u001b[0m\u001b[0;34m\u001b[0m\u001b[0m\n\u001b[0m",
      "\u001b[0;32m/var/folders/qv/f2374vtx7z70r5qbtk6w88gm0000gp/T/ipykernel_9588/2993524342.py\u001b[0m in \u001b[0;36mconsume\u001b[0;34m(topics, bootstrap_servers)\u001b[0m\n\u001b[1;32m     15\u001b[0m     \u001b[0;32mtry\u001b[0m\u001b[0;34m:\u001b[0m\u001b[0;34m\u001b[0m\u001b[0;34m\u001b[0m\u001b[0m\n\u001b[1;32m     16\u001b[0m         \u001b[0;31m# Consume messages\u001b[0m\u001b[0;34m\u001b[0m\u001b[0;34m\u001b[0m\u001b[0m\n\u001b[0;32m---> 17\u001b[0;31m         \u001b[0;32masync\u001b[0m \u001b[0;32mfor\u001b[0m \u001b[0mmsg\u001b[0m \u001b[0;32min\u001b[0m \u001b[0mconsumer\u001b[0m\u001b[0;34m:\u001b[0m\u001b[0;34m\u001b[0m\u001b[0;34m\u001b[0m\u001b[0m\n\u001b[0m\u001b[1;32m     18\u001b[0m             \u001b[0mprint\u001b[0m\u001b[0;34m(\u001b[0m\u001b[0;34m'------- New Message -------'\u001b[0m\u001b[0;34m)\u001b[0m\u001b[0;34m\u001b[0m\u001b[0;34m\u001b[0m\u001b[0m\n\u001b[1;32m     19\u001b[0m             pprint({\n",
      "\u001b[0;32m~/opt/anaconda3/envs/5003-project/lib/python3.9/site-packages/aiokafka/consumer/consumer.py\u001b[0m in \u001b[0;36m__anext__\u001b[0;34m(self)\u001b[0m\n\u001b[1;32m   1246\u001b[0m         \u001b[0;32mwhile\u001b[0m \u001b[0;32mTrue\u001b[0m\u001b[0;34m:\u001b[0m\u001b[0;34m\u001b[0m\u001b[0;34m\u001b[0m\u001b[0m\n\u001b[1;32m   1247\u001b[0m             \u001b[0;32mtry\u001b[0m\u001b[0;34m:\u001b[0m\u001b[0;34m\u001b[0m\u001b[0;34m\u001b[0m\u001b[0m\n\u001b[0;32m-> 1248\u001b[0;31m                 \u001b[0;32mreturn\u001b[0m \u001b[0;34m(\u001b[0m\u001b[0;32mawait\u001b[0m \u001b[0mself\u001b[0m\u001b[0;34m.\u001b[0m\u001b[0mgetone\u001b[0m\u001b[0;34m(\u001b[0m\u001b[0;34m)\u001b[0m\u001b[0;34m)\u001b[0m\u001b[0;34m\u001b[0m\u001b[0;34m\u001b[0m\u001b[0m\n\u001b[0m\u001b[1;32m   1249\u001b[0m             \u001b[0;32mexcept\u001b[0m \u001b[0mConsumerStoppedError\u001b[0m\u001b[0;34m:\u001b[0m\u001b[0;34m\u001b[0m\u001b[0;34m\u001b[0m\u001b[0m\n\u001b[1;32m   1250\u001b[0m                 \u001b[0;32mraise\u001b[0m \u001b[0mStopAsyncIteration\u001b[0m  \u001b[0;31m# noqa: F821\u001b[0m\u001b[0;34m\u001b[0m\u001b[0;34m\u001b[0m\u001b[0m\n",
      "\u001b[0;32m~/opt/anaconda3/envs/5003-project/lib/python3.9/site-packages/aiokafka/consumer/consumer.py\u001b[0m in \u001b[0;36mgetone\u001b[0;34m(self, *partitions)\u001b[0m\n\u001b[1;32m   1134\u001b[0m \u001b[0;34m\u001b[0m\u001b[0m\n\u001b[1;32m   1135\u001b[0m         \u001b[0;32mwith\u001b[0m \u001b[0mself\u001b[0m\u001b[0;34m.\u001b[0m\u001b[0m_subscription\u001b[0m\u001b[0;34m.\u001b[0m\u001b[0mfetch_context\u001b[0m\u001b[0;34m(\u001b[0m\u001b[0;34m)\u001b[0m\u001b[0;34m:\u001b[0m\u001b[0;34m\u001b[0m\u001b[0;34m\u001b[0m\u001b[0m\n\u001b[0;32m-> 1136\u001b[0;31m             \u001b[0mmsg\u001b[0m \u001b[0;34m=\u001b[0m \u001b[0;32mawait\u001b[0m \u001b[0mself\u001b[0m\u001b[0;34m.\u001b[0m\u001b[0m_fetcher\u001b[0m\u001b[0;34m.\u001b[0m\u001b[0mnext_record\u001b[0m\u001b[0;34m(\u001b[0m\u001b[0mpartitions\u001b[0m\u001b[0;34m)\u001b[0m\u001b[0;34m\u001b[0m\u001b[0;34m\u001b[0m\u001b[0m\n\u001b[0m\u001b[1;32m   1137\u001b[0m         \u001b[0;32mreturn\u001b[0m \u001b[0mmsg\u001b[0m\u001b[0;34m\u001b[0m\u001b[0;34m\u001b[0m\u001b[0m\n\u001b[1;32m   1138\u001b[0m \u001b[0;34m\u001b[0m\u001b[0m\n",
      "\u001b[0;32m~/opt/anaconda3/envs/5003-project/lib/python3.9/site-packages/aiokafka/consumer/fetcher.py\u001b[0m in \u001b[0;36mnext_record\u001b[0;34m(self, partitions)\u001b[0m\n\u001b[1;32m   1043\u001b[0m             \u001b[0;31m# No messages ready. Wait for some to arrive\u001b[0m\u001b[0;34m\u001b[0m\u001b[0;34m\u001b[0m\u001b[0m\n\u001b[1;32m   1044\u001b[0m             \u001b[0mwaiter\u001b[0m \u001b[0;34m=\u001b[0m \u001b[0mself\u001b[0m\u001b[0;34m.\u001b[0m\u001b[0m_create_fetch_waiter\u001b[0m\u001b[0;34m(\u001b[0m\u001b[0;34m)\u001b[0m\u001b[0;34m\u001b[0m\u001b[0;34m\u001b[0m\u001b[0m\n\u001b[0;32m-> 1045\u001b[0;31m             \u001b[0;32mawait\u001b[0m \u001b[0mwaiter\u001b[0m\u001b[0;34m\u001b[0m\u001b[0;34m\u001b[0m\u001b[0m\n\u001b[0m\u001b[1;32m   1046\u001b[0m \u001b[0;34m\u001b[0m\u001b[0m\n\u001b[1;32m   1047\u001b[0m     \u001b[0;32masync\u001b[0m \u001b[0;32mdef\u001b[0m \u001b[0mfetched_records\u001b[0m\u001b[0;34m(\u001b[0m\u001b[0mself\u001b[0m\u001b[0;34m,\u001b[0m \u001b[0mpartitions\u001b[0m\u001b[0;34m,\u001b[0m \u001b[0mtimeout\u001b[0m\u001b[0;34m=\u001b[0m\u001b[0;36m0\u001b[0m\u001b[0;34m,\u001b[0m \u001b[0mmax_records\u001b[0m\u001b[0;34m=\u001b[0m\u001b[0;32mNone\u001b[0m\u001b[0;34m)\u001b[0m\u001b[0;34m:\u001b[0m\u001b[0;34m\u001b[0m\u001b[0;34m\u001b[0m\u001b[0m\n",
      "\u001b[0;31mCancelledError\u001b[0m: "
     ]
    }
   ],
   "source": [
    "from aiokafka import AIOKafkaConsumer\n",
    "import asyncio\n",
    "import json\n",
    "from pprint import pprint\n",
    "\n",
    "topic_name = 'us-election'\n",
    "bootstrap_servers = 'localhost:29092'\n",
    "\n",
    "async def consume(topics: list[str], bootstrap_servers: str):\n",
    "    consumer = AIOKafkaConsumer(*topics, bootstrap_servers=bootstrap_servers)\n",
    "    # Get cluster layout and join group `my-group`\n",
    "    await consumer.start()\n",
    "    try:\n",
    "        # Consume messages\n",
    "        async for msg in consumer:\n",
    "            print('------- New Message -------')\n",
    "            pprint({\n",
    "                'topic': msg.topic, \n",
    "                'partition': msg.partition, \n",
    "                'offset': msg.offset,  \n",
    "                'msg.key': msg.key, \n",
    "                'msg.value': json.loads(msg.value.decode('utf-8')), \n",
    "                'msg.timestamp': msg.timestamp})\n",
    "    finally:\n",
    "        # Will leave consumer group; perform autocommit if enabled.\n",
    "        await consumer.stop()\n",
    "\n",
    "await consume([topic_name], bootstrap_servers)"
   ]
  },
  {
   "cell_type": "code",
   "execution_count": null,
   "metadata": {},
   "outputs": [],
   "source": []
  }
 ],
 "metadata": {
  "interpreter": {
   "hash": "ffedf9cbfccac9aa5fdd15aa0ae503b00863a872b99f1d97bd4515a1e5eb4b11"
  },
  "kernelspec": {
   "display_name": "Python 3.9.7 64-bit ('5003-project': conda)",
   "name": "python3"
  },
  "language_info": {
   "codemirror_mode": {
    "name": "ipython",
    "version": 3
   },
   "file_extension": ".py",
   "mimetype": "text/x-python",
   "name": "python",
   "nbconvert_exporter": "python",
   "pygments_lexer": "ipython3",
   "version": "3.9.7"
  },
  "orig_nbformat": 4
 },
 "nbformat": 4,
 "nbformat_minor": 2
}
