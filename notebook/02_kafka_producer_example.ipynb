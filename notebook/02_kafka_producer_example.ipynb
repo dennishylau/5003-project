{
 "cells": [
  {
   "cell_type": "markdown",
   "metadata": {},
   "source": [
    "# kafka_producer_example"
   ]
  },
  {
   "cell_type": "markdown",
   "metadata": {},
   "source": [
    "Start `kafka_consumer_example` before running this file."
   ]
  },
  {
   "cell_type": "code",
   "execution_count": 48,
   "metadata": {},
   "outputs": [],
   "source": [
    "import csv\n",
    "from aiokafka import AIOKafkaProducer\n",
    "import asyncio\n",
    "import json\n",
    "from pprint import pprint\n",
    "\n",
    "topic_name = 'us-election'\n",
    "bootstrap_servers = 'localhost:29092'\n",
    "\n",
    "async def send_one(topic_name: str, message: str, bootstrap_servers: str):\n",
    "    producer = AIOKafkaProducer(bootstrap_servers=bootstrap_servers)\n",
    "    # Get cluster layout and initial topic/partition leadership information\n",
    "    await producer.start()\n",
    "    try:\n",
    "        # Produce message\n",
    "        await producer.send_and_wait(topic_name, message)\n",
    "    finally:\n",
    "        # Wait for all pending messages to be delivered or expire.\n",
    "        await producer.stop()\n"
   ]
  },
  {
   "cell_type": "code",
   "execution_count": 49,
   "metadata": {},
   "outputs": [
    {
     "name": "stdout",
     "output_type": "stream",
     "text": [
      "------- New Message -------\n",
      "{'city': '',\n",
      " 'collected_at': '2020-10-21 00:00:00',\n",
      " 'continent': 'North America',\n",
      " 'country': 'United States of America',\n",
      " 'created_at': '2020-10-15 00:00:01',\n",
      " 'lat': '25.77427',\n",
      " 'likes': '0.0',\n",
      " 'long': '-80.19366',\n",
      " 'retweet_count': '0.0',\n",
      " 'source': 'TweetDeck',\n",
      " 'state': 'Florida',\n",
      " 'state_code': 'FL',\n",
      " 'tweet': '#Elecciones2020 | En #Florida: #JoeBiden dice que #DonaldTrump solo '\n",
      "          'se preocupa por él mismo. El demócrata fue anfitrión de encuentros '\n",
      "          'de electores en #PembrokePines y #Miramar. Clic AQUÍ ⬇️⬇️⬇️\\n'\n",
      "          '⠀\\n'\n",
      "          '🌐https://t.co/qhIWpIUXsT\\n'\n",
      "          '_\\n'\n",
      "          '#ElSolLatino #yobrilloconelsol https://t.co/6FlCBWf1Mi',\n",
      " 'tweet_id': '1.316529221557252e+18',\n",
      " 'user_description': '🌐 Noticias de interés para latinos de la costa este de '\n",
      "                     '#EEUU\\n'\n",
      "                     '⠀⏹️ Facebook e Instagram\\n'\n",
      "                     '⠀🏙️ Philadelphia: /elsollatinonewspaper\\n'\n",
      "                     '⠀🌅 Miami: /elsollatinonewsmiami',\n",
      " 'user_followers_count': '1860.0',\n",
      " 'user_id': '360666534.0',\n",
      " 'user_join_date': '2011-08-23 15:33:45',\n",
      " 'user_location': 'Philadelphia, PA / Miami, FL',\n",
      " 'user_name': 'El Sol Latino News',\n",
      " 'user_screen_name': 'elsollatinonews'}\n"
     ]
    }
   ],
   "source": [
    "send_count: int = 1\n",
    "\n",
    "with open('data/hashtag_donaldtrump.csv', 'r', newline='\\n') as file:\n",
    "    csv_reader = csv.DictReader(file)\n",
    "    for i in range(send_count):\n",
    "        print('------- New Message -------')\n",
    "        tweet: dict = next(csv_reader)\n",
    "        pprint(tweet)\n",
    "        tweet_json = json.dumps(tweet).encode('utf-8')\n",
    "        await send_one(topic_name, tweet_json, bootstrap_servers)"
   ]
  },
  {
   "cell_type": "code",
   "execution_count": null,
   "metadata": {},
   "outputs": [],
   "source": []
  }
 ],
 "metadata": {
  "interpreter": {
   "hash": "ffedf9cbfccac9aa5fdd15aa0ae503b00863a872b99f1d97bd4515a1e5eb4b11"
  },
  "kernelspec": {
   "display_name": "Python 3.9.7 64-bit ('5003-project': conda)",
   "name": "python3"
  },
  "language_info": {
   "codemirror_mode": {
    "name": "ipython",
    "version": 3
   },
   "file_extension": ".py",
   "mimetype": "text/x-python",
   "name": "python",
   "nbconvert_exporter": "python",
   "pygments_lexer": "ipython3",
   "version": "3.9.7"
  },
  "orig_nbformat": 4
 },
 "nbformat": 4,
 "nbformat_minor": 2
}
