{
 "cells": [
  {
   "cell_type": "code",
   "execution_count": 1,
   "metadata": {},
   "outputs": [],
   "source": [
    "%reload_ext autoreload\n",
    "%autoreload 2\n",
    "\n",
    "# Add libs to PYTHONPATH\n",
    "import sys\n",
    "sys.path.append(\"../src/backend_api/app/\")"
   ]
  },
  {
   "cell_type": "code",
   "execution_count": 2,
   "metadata": {},
   "outputs": [],
   "source": [
    "%reload_ext autoreload\n",
    "%autoreload 2\n",
    "\n",
    "import env\n",
    "from sqlmodel import Field, SQLModel\n",
    "from typing import Optional\n",
    "import db"
   ]
  },
  {
   "cell_type": "code",
   "execution_count": 3,
   "metadata": {},
   "outputs": [],
   "source": [
    "# declare db table\n",
    "class Hero(SQLModel, table=True):\n",
    "\n",
    "    __tablename__ = 'hero'\n",
    "    __table_args__ = {'extend_existing': True}\n",
    "\n",
    "    id: Optional[int] = Field(default=None, primary_key=True)\n",
    "    name: str\n",
    "    secret_name: str\n",
    "    age: Optional[int] = None"
   ]
  },
  {
   "cell_type": "code",
   "execution_count": 4,
   "metadata": {},
   "outputs": [],
   "source": [
    "# create table if it does not already exist\n",
    "SQLModel.metadata.create_all(db.sync_engine)"
   ]
  },
  {
   "cell_type": "code",
   "execution_count": 6,
   "metadata": {},
   "outputs": [],
   "source": [
    "# make some hero instances\n",
    "hero_1 = Hero(name=\"Deadpond\", secret_name=\"Dive Wilson\")\n",
    "hero_2 = Hero(name=\"Spider-Boy\", secret_name=\"Pedro Parqueador\")\n",
    "hero_3 = Hero(name=\"Rusty-Man\", secret_name=\"Tommy Sharp\", age=48)"
   ]
  },
  {
   "cell_type": "code",
   "execution_count": 8,
   "metadata": {},
   "outputs": [],
   "source": [
    "# add to db session and commit to db\n",
    "async with db.async_context() as session:\n",
    "    session.add(hero_1)\n",
    "    session.add(hero_2)\n",
    "    session.add(hero_3)\n",
    "    await session.commit()"
   ]
  },
  {
   "cell_type": "code",
   "execution_count": 5,
   "metadata": {},
   "outputs": [
    {
     "data": {
      "text/plain": [
       "Hero(age=None, id=1, name='Deadpond', secret_name='Dive Wilson')"
      ]
     },
     "execution_count": 5,
     "metadata": {},
     "output_type": "execute_result"
    }
   ],
   "source": [
    "# get object from db\n",
    "async with db.async_context() as session:\n",
    "    hero_from_db = await session.get(Hero, 1)\n",
    "\n",
    "hero_from_db"
   ]
  },
  {
   "cell_type": "code",
   "execution_count": null,
   "metadata": {},
   "outputs": [],
   "source": []
  }
 ],
 "metadata": {
  "interpreter": {
   "hash": "11223a8889bed13ee4c511387b17f26535da349a2b521fe727c5339d48cac644"
  },
  "kernelspec": {
   "display_name": "Python 3.9.7 64-bit ('5003-project': conda)",
   "name": "python3"
  },
  "language_info": {
   "codemirror_mode": {
    "name": "ipython",
    "version": 3
   },
   "file_extension": ".py",
   "mimetype": "text/x-python",
   "name": "python",
   "nbconvert_exporter": "python",
   "pygments_lexer": "ipython3",
   "version": "3.9.7"
  }
 },
 "nbformat": 4,
 "nbformat_minor": 5
}
